{
 "cells": [
  {
   "cell_type": "markdown",
   "id": "3b8eb3b9-7ad4-4d55-a93e-7c79b29d14ba",
   "metadata": {},
   "source": [
    "# Task1:Import Libraries\n",
    "# Task2:Load Dataset\n",
    "# Task3: Creating Table\n",
    "# Task4:Quick visualization with Bar chart\n",
    "# Task5:plot life Expectency vs GDP Per Capital\n",
    "# Task6:create Interactive Bubble chart\n",
    "# Task7:\n"
   ]
  }
 ],
 "metadata": {
  "kernelspec": {
   "display_name": "Python 3 (ipykernel)",
   "language": "python",
   "name": "python3"
  },
  "language_info": {
   "codemirror_mode": {
    "name": "ipython",
    "version": 3
   },
   "file_extension": ".py",
   "mimetype": "text/x-python",
   "name": "python",
   "nbconvert_exporter": "python",
   "pygments_lexer": "ipython3",
   "version": "3.10.7"
  }
 },
 "nbformat": 4,
 "nbformat_minor": 5
}
